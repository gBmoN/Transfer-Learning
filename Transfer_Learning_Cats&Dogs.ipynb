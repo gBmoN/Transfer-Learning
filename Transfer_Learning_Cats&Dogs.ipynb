{
  "cells": [
    {
      "cell_type": "markdown",
      "metadata": {
        "id": "view-in-github",
        "colab_type": "text"
      },
      "source": [
        "<a href=\"https://colab.research.google.com/github/gBmoN/Transfer-Learning/blob/main/Transfer_Learning_Cats%26Dogs.ipynb\" target=\"_parent\"><img src=\"https://colab.research.google.com/assets/colab-badge.svg\" alt=\"Open In Colab\"/></a>"
      ]
    },
    {
      "cell_type": "markdown",
      "source": [
        "# **Transfer Learning**\n",
        "\n",
        "\n",
        "\n",
        "---\n",
        "\n",
        "\n",
        "## Test With Cats and Dogs Dataset"
      ],
      "metadata": {
        "id": "ity1voPjlil3"
      }
    },
    {
      "cell_type": "markdown",
      "source": [
        "### Implementation of a convolutional network using transfer learning to differentiate between cats and dogs categories.\n",
        "\n",
        "### The original database can be found in the following [kaggle](https://www.kaggle.com/c/dogs-vs-cats) path. Among these images, 8000 images were separated for training and 2000 images for testing.\n",
        "\n",
        "### The network is implemented by transfer learning through the author's code available on the following [GitHub](https://github.com/cunhamaicon)"
      ],
      "metadata": {
        "id": "f623cCVoiE7y"
      }
    },
    {
      "cell_type": "markdown",
      "source": [
        "### The beginning\n",
        "\n",
        "---"
      ],
      "metadata": {
        "id": "DOvwyYDXjAkQ"
      }
    },
    {
      "cell_type": "markdown",
      "source": [
        "Download directory containing dataset"
      ],
      "metadata": {
        "id": "O6hjGQorjJWP"
      }
    },
    {
      "cell_type": "code",
      "source": [
        "!git clone https://github.com/cunhamaicon/catsxdogs"
      ],
      "metadata": {
        "colab": {
          "base_uri": "https://localhost:8080/"
        },
        "id": "uO1W_AYZneZa",
        "outputId": "d73afb9b-5b3f-4dec-d777-7548ac57793a"
      },
      "execution_count": 1,
      "outputs": [
        {
          "output_type": "stream",
          "name": "stdout",
          "text": [
            "Cloning into 'catsxdogs'...\n",
            "remote: Enumerating objects: 10055, done.\u001b[K\n",
            "remote: Total 10055 (delta 0), reused 0 (delta 0), pack-reused 10055\u001b[K\n",
            "Receiving objects: 100% (10055/10055), 301.00 MiB | 21.09 MiB/s, done.\n",
            "Resolving deltas: 100% (19/19), done.\n",
            "Checking out files: 100% (10018/10018), done.\n"
          ]
        }
      ]
    },
    {
      "cell_type": "markdown",
      "source": [
        "Package import"
      ],
      "metadata": {
        "id": "GtsMFXT3jRDg"
      }
    },
    {
      "cell_type": "code",
      "source": [
        "import pandas as pd\n",
        "import numpy as np\n",
        "import os\n",
        "import keras\n",
        "import matplotlib.pyplot as plt\n",
        "from keras.layers import Dense,GlobalAveragePooling2D\n",
        "from tensorflow.keras.applications.mobilenet import MobileNet\n",
        "from keras.preprocessing import image\n",
        "from keras.applications.mobilenet import preprocess_input\n",
        "from keras.preprocessing.image import ImageDataGenerator\n",
        "from keras.models import Model\n",
        "from tensorflow.keras.optimizers import Adam\n",
        "from keras.layers import Dropout"
      ],
      "metadata": {
        "id": "3c-U2hozne4Q"
      },
      "execution_count": 2,
      "outputs": []
    },
    {
      "cell_type": "markdown",
      "source": [
        "Importing the MobileNet model and discarding the last layer of neurons"
      ],
      "metadata": {
        "id": "kCTUu_RRjlKP"
      }
    },
    {
      "cell_type": "code",
      "source": [
        "model=MobileNet(weights='imagenet',include_top=False)"
      ],
      "metadata": {
        "colab": {
          "base_uri": "https://localhost:8080/"
        },
        "id": "2YlAh5jonhuI",
        "outputId": "401c73bc-67f1-4218-bf25-8adba7efddd5"
      },
      "execution_count": 3,
      "outputs": [
        {
          "output_type": "stream",
          "name": "stdout",
          "text": [
            "WARNING:tensorflow:`input_shape` is undefined or non-square, or `rows` is not in [128, 160, 192, 224]. Weights for input shape (224, 224) will be loaded as the default.\n",
            "Downloading data from https://storage.googleapis.com/tensorflow/keras-applications/mobilenet/mobilenet_1_0_224_tf_no_top.h5\n",
            "17227776/17225924 [==============================] - 0s 0us/step\n",
            "17235968/17225924 [==============================] - 0s 0us/step\n"
          ]
        }
      ]
    },
    {
      "cell_type": "markdown",
      "source": [
        "Creating the MobileNet model output"
      ],
      "metadata": {
        "id": "RD9fSdDxjqOQ"
      }
    },
    {
      "cell_type": "code",
      "source": [
        "x=model.output\n",
        "x=GlobalAveragePooling2D()(x)"
      ],
      "metadata": {
        "id": "HswGij5Nnj7P"
      },
      "execution_count": 4,
      "outputs": []
    },
    {
      "cell_type": "markdown",
      "source": [
        "Adding middle layer and final layer:"
      ],
      "metadata": {
        "id": "mq38x3A8jzCf"
      }
    },
    {
      "cell_type": "code",
      "source": [
        "x=Dense(50,activation='relu')(x)\n",
        "preds=Dense(1,activation='sigmoid')(x) \n",
        "model=Model(inputs=model.input,outputs=preds)"
      ],
      "metadata": {
        "id": "hoee0mAfnmXF"
      },
      "execution_count": 5,
      "outputs": []
    },
    {
      "cell_type": "code",
      "source": [
        "for i,layer in enumerate(model.layers):\n",
        "  print(i,layer.name)"
      ],
      "metadata": {
        "colab": {
          "base_uri": "https://localhost:8080/"
        },
        "id": "XTGFrTwVnoxd",
        "outputId": "55b1ad33-c712-4ff9-d680-e556095125ad"
      },
      "execution_count": 19,
      "outputs": [
        {
          "output_type": "stream",
          "name": "stdout",
          "text": [
            "0 input_1\n",
            "1 conv1\n",
            "2 conv1_bn\n",
            "3 conv1_relu\n",
            "4 conv_dw_1\n",
            "5 conv_dw_1_bn\n",
            "6 conv_dw_1_relu\n",
            "7 conv_pw_1\n",
            "8 conv_pw_1_bn\n",
            "9 conv_pw_1_relu\n",
            "10 conv_pad_2\n",
            "11 conv_dw_2\n",
            "12 conv_dw_2_bn\n",
            "13 conv_dw_2_relu\n",
            "14 conv_pw_2\n",
            "15 conv_pw_2_bn\n",
            "16 conv_pw_2_relu\n",
            "17 conv_dw_3\n",
            "18 conv_dw_3_bn\n",
            "19 conv_dw_3_relu\n",
            "20 conv_pw_3\n",
            "21 conv_pw_3_bn\n",
            "22 conv_pw_3_relu\n",
            "23 conv_pad_4\n",
            "24 conv_dw_4\n",
            "25 conv_dw_4_bn\n",
            "26 conv_dw_4_relu\n",
            "27 conv_pw_4\n",
            "28 conv_pw_4_bn\n",
            "29 conv_pw_4_relu\n",
            "30 conv_dw_5\n",
            "31 conv_dw_5_bn\n",
            "32 conv_dw_5_relu\n",
            "33 conv_pw_5\n",
            "34 conv_pw_5_bn\n",
            "35 conv_pw_5_relu\n",
            "36 conv_pad_6\n",
            "37 conv_dw_6\n",
            "38 conv_dw_6_bn\n",
            "39 conv_dw_6_relu\n",
            "40 conv_pw_6\n",
            "41 conv_pw_6_bn\n",
            "42 conv_pw_6_relu\n",
            "43 conv_dw_7\n",
            "44 conv_dw_7_bn\n",
            "45 conv_dw_7_relu\n",
            "46 conv_pw_7\n",
            "47 conv_pw_7_bn\n",
            "48 conv_pw_7_relu\n",
            "49 conv_dw_8\n",
            "50 conv_dw_8_bn\n",
            "51 conv_dw_8_relu\n",
            "52 conv_pw_8\n",
            "53 conv_pw_8_bn\n",
            "54 conv_pw_8_relu\n",
            "55 conv_dw_9\n",
            "56 conv_dw_9_bn\n",
            "57 conv_dw_9_relu\n",
            "58 conv_pw_9\n",
            "59 conv_pw_9_bn\n",
            "60 conv_pw_9_relu\n",
            "61 conv_dw_10\n",
            "62 conv_dw_10_bn\n",
            "63 conv_dw_10_relu\n",
            "64 conv_pw_10\n",
            "65 conv_pw_10_bn\n",
            "66 conv_pw_10_relu\n",
            "67 conv_dw_11\n",
            "68 conv_dw_11_bn\n",
            "69 conv_dw_11_relu\n",
            "70 conv_pw_11\n",
            "71 conv_pw_11_bn\n",
            "72 conv_pw_11_relu\n",
            "73 conv_pad_12\n",
            "74 conv_dw_12\n",
            "75 conv_dw_12_bn\n",
            "76 conv_dw_12_relu\n",
            "77 conv_pw_12\n",
            "78 conv_pw_12_bn\n",
            "79 conv_pw_12_relu\n",
            "80 conv_dw_13\n",
            "81 conv_dw_13_bn\n",
            "82 conv_dw_13_relu\n",
            "83 conv_pw_13\n",
            "84 conv_pw_13_bn\n",
            "85 conv_pw_13_relu\n",
            "86 global_average_pooling2d\n",
            "87 dense\n",
            "88 dense_1\n"
          ]
        }
      ]
    },
    {
      "cell_type": "markdown",
      "source": [
        "Defining the last two layers of the network for training"
      ],
      "metadata": {
        "id": "SeXe42XekGQY"
      }
    },
    {
      "cell_type": "code",
      "source": [
        "for layer in model.layers[:88]:\n",
        "    layer.trainable=False\n",
        "for layer in model.layers[88:]:\n",
        "    layer.trainable=True"
      ],
      "metadata": {
        "id": "TWeDoKqrnrxm"
      },
      "execution_count": 7,
      "outputs": []
    },
    {
      "cell_type": "markdown",
      "source": [
        "Setting the size of each batch"
      ],
      "metadata": {
        "id": "1va6LJ8LkLZW"
      }
    },
    {
      "cell_type": "code",
      "source": [
        "batch_size = 32"
      ],
      "metadata": {
        "id": "o4EEzk6qnwS2"
      },
      "execution_count": 8,
      "outputs": []
    },
    {
      "cell_type": "markdown",
      "source": [
        "Presenting each image to the network differently through ImageDataGenerator"
      ],
      "metadata": {
        "id": "4J0GkE6qkXEO"
      }
    },
    {
      "cell_type": "code",
      "source": [
        "train_datagen = ImageDataGenerator(rescale = 1./255,\n",
        "                                   shear_range = 0.4,\n",
        "                                   zoom_range = 0.4,\n",
        "                                   height_shift_range=0.3,\n",
        "                                   width_shift_range=0.3,\n",
        "                                   rotation_range=50,\n",
        "                                   horizontal_flip = True)\n",
        "\n",
        "test_datagen = ImageDataGenerator(rescale = 1./255)\n",
        "\n",
        "training_set = train_datagen.flow_from_directory('catsxdogs/training_set',\n",
        "                                                 target_size = (224, 224),\n",
        "                                                 batch_size = batch_size,\n",
        "                                                 class_mode = 'binary')\n",
        "\n",
        "test_set = test_datagen.flow_from_directory('catsxdogs/test_set',\n",
        "                                            target_size = (224, 224),\n",
        "                                            batch_size = batch_size,\n",
        "                                            class_mode = 'binary')"
      ],
      "metadata": {
        "colab": {
          "base_uri": "https://localhost:8080/"
        },
        "id": "DlHI4_5jnyn_",
        "outputId": "be32fa65-d5ff-48a5-de02-f66410aa5e14"
      },
      "execution_count": 9,
      "outputs": [
        {
          "output_type": "stream",
          "name": "stdout",
          "text": [
            "Found 8000 images belonging to 2 classes.\n",
            "Found 2000 images belonging to 2 classes.\n"
          ]
        }
      ]
    },
    {
      "cell_type": "markdown",
      "source": [
        "### Training the Network and Predicting\n",
        "---"
      ],
      "metadata": {
        "id": "t-w3miWEkb2m"
      }
    },
    {
      "cell_type": "markdown",
      "source": [
        "Setting network build parameters"
      ],
      "metadata": {
        "id": "HY2GICUmkhmO"
      }
    },
    {
      "cell_type": "code",
      "source": [
        "model.compile(optimizer=Adam(lr = 0.0001),loss='binary_crossentropy',metrics=['accuracy'])"
      ],
      "metadata": {
        "colab": {
          "base_uri": "https://localhost:8080/"
        },
        "id": "xlUlP9jIn2GU",
        "outputId": "c640cb42-434e-42e6-db49-a3dc8773dbea"
      },
      "execution_count": 10,
      "outputs": [
        {
          "output_type": "stream",
          "name": "stderr",
          "text": [
            "/usr/local/lib/python3.7/dist-packages/keras/optimizer_v2/adam.py:105: UserWarning: The `lr` argument is deprecated, use `learning_rate` instead.\n",
            "  super(Adam, self).__init__(name, **kwargs)\n"
          ]
        }
      ]
    },
    {
      "cell_type": "markdown",
      "source": [
        "Training"
      ],
      "metadata": {
        "id": "6flQcr5jkzuA"
      }
    },
    {
      "cell_type": "code",
      "source": [
        "history = model.fit_generator(generator=training_set,\n",
        "                   steps_per_epoch=8000/batch_size,\n",
        "                   epochs=25,\n",
        "                   validation_data = test_set,\n",
        "                   validation_steps = 2000/batch_size).history"
      ],
      "metadata": {
        "colab": {
          "base_uri": "https://localhost:8080/"
        },
        "id": "KAwr7-v1n67m",
        "outputId": "6315668d-2e7d-42f3-f1fc-b1d0ab29ef01"
      },
      "execution_count": 11,
      "outputs": [
        {
          "output_type": "stream",
          "name": "stderr",
          "text": [
            "/usr/local/lib/python3.7/dist-packages/ipykernel_launcher.py:5: UserWarning: `Model.fit_generator` is deprecated and will be removed in a future version. Please use `Model.fit`, which supports generators.\n",
            "  \"\"\"\n"
          ]
        },
        {
          "output_type": "stream",
          "name": "stdout",
          "text": [
            "Epoch 1/25\n",
            "250/250 [==============================] - 424s 2s/step - loss: 1.0626 - accuracy: 0.5045 - val_loss: 0.9672 - val_accuracy: 0.5005\n",
            "Epoch 2/25\n",
            "250/250 [==============================] - 412s 2s/step - loss: 0.8999 - accuracy: 0.5135 - val_loss: 0.8539 - val_accuracy: 0.5045\n",
            "Epoch 3/25\n",
            "250/250 [==============================] - 427s 2s/step - loss: 0.8029 - accuracy: 0.5324 - val_loss: 0.7848 - val_accuracy: 0.5230\n",
            "Epoch 4/25\n",
            "250/250 [==============================] - 415s 2s/step - loss: 0.7485 - accuracy: 0.5422 - val_loss: 0.7409 - val_accuracy: 0.5280\n",
            "Epoch 5/25\n",
            "250/250 [==============================] - 414s 2s/step - loss: 0.7187 - accuracy: 0.5523 - val_loss: 0.7099 - val_accuracy: 0.5560\n",
            "Epoch 6/25\n",
            "250/250 [==============================] - 416s 2s/step - loss: 0.6919 - accuracy: 0.5761 - val_loss: 0.6831 - val_accuracy: 0.5925\n",
            "Epoch 7/25\n",
            "250/250 [==============================] - 414s 2s/step - loss: 0.6658 - accuracy: 0.6074 - val_loss: 0.6588 - val_accuracy: 0.6105\n",
            "Epoch 8/25\n",
            "250/250 [==============================] - 416s 2s/step - loss: 0.6539 - accuracy: 0.6154 - val_loss: 0.6362 - val_accuracy: 0.6360\n",
            "Epoch 9/25\n",
            "250/250 [==============================] - 416s 2s/step - loss: 0.6410 - accuracy: 0.6302 - val_loss: 0.6149 - val_accuracy: 0.6625\n",
            "Epoch 10/25\n",
            "250/250 [==============================] - 418s 2s/step - loss: 0.6200 - accuracy: 0.6564 - val_loss: 0.5946 - val_accuracy: 0.6835\n",
            "Epoch 11/25\n",
            "250/250 [==============================] - 416s 2s/step - loss: 0.6054 - accuracy: 0.6711 - val_loss: 0.5757 - val_accuracy: 0.7045\n",
            "Epoch 12/25\n",
            "250/250 [==============================] - 418s 2s/step - loss: 0.5902 - accuracy: 0.6919 - val_loss: 0.5576 - val_accuracy: 0.7260\n",
            "Epoch 13/25\n",
            "250/250 [==============================] - 423s 2s/step - loss: 0.5791 - accuracy: 0.7076 - val_loss: 0.5407 - val_accuracy: 0.7445\n",
            "Epoch 14/25\n",
            "250/250 [==============================] - 422s 2s/step - loss: 0.5671 - accuracy: 0.7174 - val_loss: 0.5249 - val_accuracy: 0.7600\n",
            "Epoch 15/25\n",
            "250/250 [==============================] - 425s 2s/step - loss: 0.5542 - accuracy: 0.7300 - val_loss: 0.5096 - val_accuracy: 0.7750\n",
            "Epoch 16/25\n",
            "250/250 [==============================] - 423s 2s/step - loss: 0.5476 - accuracy: 0.7322 - val_loss: 0.4958 - val_accuracy: 0.7880\n",
            "Epoch 17/25\n",
            "250/250 [==============================] - 433s 2s/step - loss: 0.5345 - accuracy: 0.7474 - val_loss: 0.4829 - val_accuracy: 0.8020\n",
            "Epoch 18/25\n",
            "250/250 [==============================] - 437s 2s/step - loss: 0.5280 - accuracy: 0.7536 - val_loss: 0.4709 - val_accuracy: 0.8115\n",
            "Epoch 19/25\n",
            "250/250 [==============================] - 421s 2s/step - loss: 0.5110 - accuracy: 0.7685 - val_loss: 0.4597 - val_accuracy: 0.8225\n",
            "Epoch 20/25\n",
            "250/250 [==============================] - 420s 2s/step - loss: 0.5105 - accuracy: 0.7653 - val_loss: 0.4492 - val_accuracy: 0.8285\n",
            "Epoch 21/25\n",
            "250/250 [==============================] - 425s 2s/step - loss: 0.5039 - accuracy: 0.7766 - val_loss: 0.4392 - val_accuracy: 0.8380\n",
            "Epoch 22/25\n",
            "250/250 [==============================] - 418s 2s/step - loss: 0.4977 - accuracy: 0.7771 - val_loss: 0.4303 - val_accuracy: 0.8420\n",
            "Epoch 23/25\n",
            "250/250 [==============================] - 423s 2s/step - loss: 0.4919 - accuracy: 0.7780 - val_loss: 0.4221 - val_accuracy: 0.8480\n",
            "Epoch 24/25\n",
            "250/250 [==============================] - 422s 2s/step - loss: 0.4865 - accuracy: 0.7837 - val_loss: 0.4146 - val_accuracy: 0.8515\n",
            "Epoch 25/25\n",
            "250/250 [==============================] - 417s 2s/step - loss: 0.4713 - accuracy: 0.7984 - val_loss: 0.4070 - val_accuracy: 0.8535\n"
          ]
        }
      ]
    },
    {
      "cell_type": "markdown",
      "source": [
        "Plotting performance graphs"
      ],
      "metadata": {
        "id": "j9zr1vo-k8zH"
      }
    },
    {
      "cell_type": "code",
      "source": [
        "plt.figure()\n",
        "plt.ylabel(\"Loss (training and validation)\")\n",
        "plt.xlabel(\"Training Steps\")\n",
        "plt.ylim([0,2])\n",
        "plt.plot(history[\"loss\"])\n",
        "plt.plot(history[\"val_loss\"])\n",
        "\n",
        "plt.figure()\n",
        "plt.ylabel(\"Accuracy (training and validation)\")\n",
        "plt.xlabel(\"Training Steps\")\n",
        "plt.ylim([0,1])\n",
        "plt.plot(history[\"accuracy\"])\n",
        "plt.plot(history[\"val_accuracy\"])"
      ],
      "metadata": {
        "id": "7vk2BjGn3MqL",
        "colab": {
          "base_uri": "https://localhost:8080/",
          "height": 566
        },
        "outputId": "bd34b50a-e04c-4252-91fd-a18bfcf19129"
      },
      "execution_count": 12,
      "outputs": [
        {
          "output_type": "execute_result",
          "data": {
            "text/plain": [
              "[<matplotlib.lines.Line2D at 0x7fe350b0ba90>]"
            ]
          },
          "metadata": {},
          "execution_count": 12
        },
        {
          "output_type": "display_data",
          "data": {
            "text/plain": [
              "<Figure size 432x288 with 1 Axes>"
            ],
            "image/png": "[encoded data removed]"
          },
          "metadata": {
            "needs_background": "light"
          }
        },
        {
          "output_type": "display_data",
          "data": {
            "text/plain": [
              "<Figure size 432x288 with 1 Axes>"
            ],
            "image/png": "[encoded data removed]"
          },
          "metadata": {
            "needs_background": "light"
          }
        }
      ]
    },
    {
      "cell_type": "markdown",
      "source": [
        "Saving the model for future use"
      ],
      "metadata": {
        "id": "2M8H6viDlCNG"
      }
    },
    {
      "cell_type": "code",
      "source": [
        "model.save('catsxdogs_mobilenet.h5')\n",
        "from google.colab import files\n",
        "files.download('catsxdogs_mobilenet.h5')"
      ],
      "metadata": {
        "id": "9K5hjMx8oerE",
        "colab": {
          "base_uri": "https://localhost:8080/",
          "height": 17
        },
        "outputId": "dfcb62b0-44ad-448d-bc2f-988f6f3ebc63"
      },
      "execution_count": 13,
      "outputs": [
        {
          "output_type": "display_data",
          "data": {
            "text/plain": [
              "<IPython.core.display.Javascript object>"
            ],
            "application/javascript": [
              "\n",
              "    async function download(id, filename, size) {\n",
              "      if (!google.colab.kernel.accessAllowed) {\n",
              "        return;\n",
              "      }\n",
              "      const div = document.createElement('div');\n",
              "      const label = document.createElement('label');\n",
              "      label.textContent = `Downloading \"${filename}\": `;\n",
              "      div.appendChild(label);\n",
              "      const progress = document.createElement('progress');\n",
              "      progress.max = size;\n",
              "      div.appendChild(progress);\n",
              "      document.body.appendChild(div);\n",
              "\n",
              "      const buffers = [];\n",
              "      let downloaded = 0;\n",
              "\n",
              "      const channel = await google.colab.kernel.comms.open(id);\n",
              "      // Send a message to notify the kernel that we're ready.\n",
              "      channel.send({})\n",
              "\n",
              "      for await (const message of channel.messages) {\n",
              "        // Send a message to notify the kernel that we're ready.\n",
              "        channel.send({})\n",
              "        if (message.buffers) {\n",
              "          for (const buffer of message.buffers) {\n",
              "            buffers.push(buffer);\n",
              "            downloaded += buffer.byteLength;\n",
              "            progress.value = downloaded;\n",
              "          }\n",
              "        }\n",
              "      }\n",
              "      const blob = new Blob(buffers, {type: 'application/binary'});\n",
              "      const a = document.createElement('a');\n",
              "      a.href = window.URL.createObjectURL(blob);\n",
              "      a.download = filename;\n",
              "      div.appendChild(a);\n",
              "      a.click();\n",
              "      div.remove();\n",
              "    }\n",
              "  "
            ]
          },
          "metadata": {}
        },
        {
          "output_type": "display_data",
          "data": {
            "text/plain": [
              "<IPython.core.display.Javascript object>"
            ],
            "application/javascript": [
              "download(\"download_fae750ec-4d57-45b8-987a-17b1b5e8496d\", \"catsxdogs_mobilenet.h5\", 13390904)"
            ]
          },
          "metadata": {}
        }
      ]
    },
    {
      "cell_type": "markdown",
      "source": [
        "Showing the files from the single_prediction folder with unpublished images for the network to sort"
      ],
      "metadata": {
        "id": "c3CU-jqxlKfN"
      }
    },
    {
      "cell_type": "code",
      "source": [
        "ls catsxdogs/single_prediction"
      ],
      "metadata": {
        "id": "TP0lrpBAokpC",
        "colab": {
          "base_uri": "https://localhost:8080/"
        },
        "outputId": "b09cd7c7-b73d-4946-de2f-668160fcf70e"
      },
      "execution_count": 14,
      "outputs": [
        {
          "output_type": "stream",
          "name": "stdout",
          "text": [
            "cat_or_dog_1.jpg  chino1.jpg  floyd2.jpg  floyd4.jpg\n",
            "cat_or_dog_2.jpg  floyd1.jpg  floyd3.jpg\n"
          ]
        }
      ]
    },
    {
      "cell_type": "markdown",
      "source": [
        "Choosing an image from the single_prediction folder to make the prediction"
      ],
      "metadata": {
        "id": "3MirMi4olTXm"
      }
    },
    {
      "cell_type": "code",
      "source": [
        "test_image = image.load_img('catsxdogs/single_prediction/chino1.jpg', target_size = (224, 224))\n",
        "\n",
        "test_image = image.img_to_array(test_image)\n",
        "test_image = np.expand_dims(test_image, axis = 0)\n",
        "test_image = test_image/255"
      ],
      "metadata": {
        "id": "l0Vd1MYuonrV"
      },
      "execution_count": 15,
      "outputs": []
    },
    {
      "cell_type": "code",
      "source": [
        "x, y = next(iter(test_set))\n",
        "image = x[0, :, :, :]\n",
        "true_index = np.argmax(y[0])\n",
        "plt.imshow(image)\n",
        "plt.axis('off')\n",
        "plt.show()"
      ],
      "metadata": {
        "id": "NiCA2YV4orCL",
        "colab": {
          "base_uri": "https://localhost:8080/",
          "height": 248
        },
        "outputId": "0c51a564-b772-489a-a10e-715fa85348e1"
      },
      "execution_count": 16,
      "outputs": [
        {
          "output_type": "display_data",
          "data": {
            "text/plain": [
              "<Figure size 432x288 with 1 Axes>"
            ],
            "image/png": "[encoded data removed]"
          },
          "metadata": {
            "needs_background": "light"
          }
        }
      ]
    },
    {
      "cell_type": "code",
      "source": [
        "result = model.predict(test_image)\n",
        "\n",
        "if result[0][0] > 0.5:\n",
        "    prediction = 'dog'\n",
        "else:\n",
        "    prediction = 'cat'\n",
        "    \n",
        "print(prediction)"
      ],
      "metadata": {
        "id": "cpomkG48otbl",
        "colab": {
          "base_uri": "https://localhost:8080/"
        },
        "outputId": "6e35853a-c046-4269-971b-e2258563ba64"
      },
      "execution_count": 17,
      "outputs": [
        {
          "output_type": "stream",
          "name": "stdout",
          "text": [
            "cat\n"
          ]
        }
      ]
    }
  ],
  "metadata": {
    "colab": {
      "name": "Transfer-Learning_Cats&Dogs.ipynb",
      "provenance": [],
      "authorship_tag": "ABX9TyN3xL3E5uaf9skc00/Pea+M",
      "include_colab_link": true
    },
    "kernelspec": {
      "display_name": "Python 3",
      "name": "python3"
    },
    "language_info": {
      "name": "python"
    }
  },
  "nbformat": 4,
  "nbformat_minor": 0
}